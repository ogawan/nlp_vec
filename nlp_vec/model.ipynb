{
 "cells": [
  {
   "cell_type": "code",
   "execution_count": null,
   "id": "1771fa2e",
   "metadata": {},
   "outputs": [],
   "source": [
    "import numpy as np\n",
    "from itertools import islice"
   ]
  },
  {
   "cell_type": "markdown",
   "id": "0be65bd7",
   "metadata": {},
   "source": [
    "### Notes\n",
    "\n",
    "Handling of stopwords when training word2vec. \n",
    "* [Stackoverflow](https://stackoverflow.com/questions/34721984/stopword-removing-when-using-the-word2vec)"
   ]
  },
  {
   "cell_type": "code",
   "execution_count": 40,
   "id": "4f8800b3",
   "metadata": {},
   "outputs": [
    {
     "data": {
      "text/plain": [
       "{0: 'This',\n",
       " 1: 'guideline',\n",
       " 2: 'emphasizes',\n",
       " 3: 'considerations',\n",
       " 4: 'of',\n",
       " 5: 'both',\n",
       " 6: 'safety',\n",
       " 7: 'and',\n",
       " 8: 'quality',\n",
       " 9: 'risk',\n",
       " 10: 'management',\n",
       " 11: 'in',\n",
       " 12: 'establishing',\n",
       " 13: 'levels',\n",
       " 14: 'mutagenic',\n",
       " 15: 'impurities',\n",
       " 16: 'that',\n",
       " 17: 'are',\n",
       " 18: 'expected',\n",
       " 19: 'to',\n",
       " 20: 'pose',\n",
       " 21: 'negligible',\n",
       " 22: 'carcinogenic',\n",
       " 23: 'risk.',\n",
       " 24: 'It',\n",
       " 25: 'outlines',\n",
       " 26: 'recommendations',\n",
       " 27: 'for',\n",
       " 28: 'assessment',\n",
       " 29: 'control',\n",
       " 30: 'reside',\n",
       " 31: 'or',\n",
       " 32: 'reasonably',\n",
       " 33: 'final',\n",
       " 34: 'drug',\n",
       " 35: 'substance',\n",
       " 36: 'product,',\n",
       " 37: 'taking',\n",
       " 38: 'into',\n",
       " 39: 'consideration',\n",
       " 40: 'the',\n",
       " 41: 'intended',\n",
       " 42: 'conditions',\n",
       " 43: 'human',\n",
       " 44: 'use.'}"
      ]
     },
     "execution_count": 40,
     "metadata": {},
     "output_type": "execute_result"
    }
   ],
   "source": [
    "doc = \"This guideline emphasizes considerations of both safety and quality risk management in establishing levels of mutagenic impurities that are expected to pose negligible carcinogenic risk. It outlines recommendations for assessment and control of mutagenic impurities that reside or are reasonably expected to reside in final drug substance or product, taking into consideration the intended conditions of human use.\"\n",
    "docs = doc.split(\" \")\n",
    "\n",
    "def get_word2index(docs):\n",
    "    already_seen = []\n",
    "    word2index = {}\n",
    "    cnt = 0\n",
    "\n",
    "    for word in docs:\n",
    "        if word not in already_seen:\n",
    "            word2index[word] = cnt\n",
    "            already_seen.append(word)\n",
    "            cnt += 1\n",
    "    return word2index \n",
    "\n",
    "vocab = get_word2index(docs)\n",
    "vocab_inv = {v:k for k,v in vocab.items()}\n",
    "vocab_inv"
   ]
  },
  {
   "cell_type": "code",
   "execution_count": 8,
   "id": "4155b8d7-0ef1-42ac-bdb6-18bf629cdfa7",
   "metadata": {},
   "outputs": [],
   "source": [
    "def get_windows(seq, n=5):\n",
    "    \"\"\"\n",
    "    Parameters:\n",
    "    ------------\n",
    "        seq: list\n",
    "            Sentence as lit of words\n",
    "        n:integer\n",
    "            the window size\n",
    "    yield:\n",
    "    -----------\n",
    "        result: generator object\n",
    "            Sliding windows\n",
    "        \n",
    "    \"\"\"\n",
    "    it = iter(seq)\n",
    "    result = tuple(islice(it, n))\n",
    "    if len(result) == n:\n",
    "        yield result\n",
    "    for elem in it:\n",
    "        result = result[1:] + (elem,)\n",
    "        yield result\n",
    "\n",
    "def sample_examples(docs,max_window_size,n_windows,do_negs):\n",
    "    '''generate target,context pairs and negative examples'''\n",
    "    windows = []\n",
    "    for i,doc in enumerate(docs):\n",
    "        window_size = int(np.random.choice(range(1,max_window_size+1),1)) # dynamic window\n",
    "        to_append = list(get_windows(doc,2*window_size+1))\n",
    "        to_append = [list((i,) + elt) for elt in to_append] # convert to list to support del and pop\n",
    "        windows.append(to_append)\n",
    "\n",
    "    windows = [elt for sublist in windows for elt in sublist] # flatten\n",
    "    random_idxs = np.random.choice(range(len(windows)),size=n_windows,replace=False)\n",
    "    windows = [windows[idx] for idx in random_idxs]\n",
    "    \n",
    "    if do_negs:\n",
    "        all_negs = list(np.random.choice(token_ints,size=n_negs*len(windows),p=neg_distr))\n",
    "        to_return = windows,all_negs\n",
    "    else:\n",
    "        to_return = windows\n",
    "    \n",
    "    return to_return"
   ]
  },
  {
   "cell_type": "code",
   "execution_count": null,
   "id": "df299ed2",
   "metadata": {},
   "outputs": [],
   "source": []
  },
  {
   "cell_type": "code",
   "execution_count": 10,
   "id": "0c62b6d5-ef2f-4671-bb5f-bc9a2cd338df",
   "metadata": {},
   "outputs": [
    {
     "ename": "NameError",
     "evalue": "name 'token_ints' is not defined",
     "output_type": "error",
     "traceback": [
      "\u001b[0;31m---------------------------------------------------------------------------\u001b[0m",
      "\u001b[0;31mNameError\u001b[0m                                 Traceback (most recent call last)",
      "\u001b[0;32m/tmp/ipykernel_92/3371958152.py\u001b[0m in \u001b[0;36m<module>\u001b[0;34m\u001b[0m\n\u001b[1;32m      1\u001b[0m \u001b[0mdocs\u001b[0m \u001b[0;34m=\u001b[0m \u001b[0;34m[\u001b[0m\u001b[0;34m[\u001b[0m\u001b[0;34m'a'\u001b[0m\u001b[0;34m,\u001b[0m\u001b[0;34m'b'\u001b[0m\u001b[0;34m,\u001b[0m\u001b[0;34m'c'\u001b[0m\u001b[0;34m,\u001b[0m\u001b[0;34m'd'\u001b[0m\u001b[0;34m,\u001b[0m\u001b[0;34m'e'\u001b[0m\u001b[0;34m,\u001b[0m\u001b[0;34m'f'\u001b[0m\u001b[0;34m,\u001b[0m \u001b[0;34m\"GGDG\"\u001b[0m\u001b[0;34m]\u001b[0m\u001b[0;34m,\u001b[0m\u001b[0;34m[\u001b[0m\u001b[0;34m'A'\u001b[0m\u001b[0;34m,\u001b[0m\u001b[0;34m'B'\u001b[0m\u001b[0;34m,\u001b[0m\u001b[0;34m'C'\u001b[0m\u001b[0;34m,\u001b[0m\u001b[0;34m'D'\u001b[0m\u001b[0;34m]\u001b[0m\u001b[0;34m]\u001b[0m\u001b[0;34m\u001b[0m\u001b[0;34m\u001b[0m\u001b[0m\n\u001b[1;32m      2\u001b[0m \u001b[0mget_windows\u001b[0m\u001b[0;34m(\u001b[0m\u001b[0mdocs\u001b[0m\u001b[0;34m[\u001b[0m\u001b[0;36m0\u001b[0m\u001b[0;34m]\u001b[0m\u001b[0;34m,\u001b[0m\u001b[0;36m5\u001b[0m\u001b[0;34m)\u001b[0m\u001b[0;34m\u001b[0m\u001b[0;34m\u001b[0m\u001b[0m\n\u001b[0;32m----> 3\u001b[0;31m \u001b[0msample_examples\u001b[0m\u001b[0;34m(\u001b[0m\u001b[0mdocs\u001b[0m\u001b[0;34m,\u001b[0m\u001b[0;36m2\u001b[0m\u001b[0;34m,\u001b[0m\u001b[0;36m2\u001b[0m\u001b[0;34m,\u001b[0m\u001b[0;32mTrue\u001b[0m\u001b[0;34m)\u001b[0m\u001b[0;34m\u001b[0m\u001b[0;34m\u001b[0m\u001b[0m\n\u001b[0m",
      "\u001b[0;32m/tmp/ipykernel_92/1334384212.py\u001b[0m in \u001b[0;36msample_examples\u001b[0;34m(docs, max_window_size, n_windows, do_negs)\u001b[0m\n\u001b[1;32m     38\u001b[0m \u001b[0;34m\u001b[0m\u001b[0m\n\u001b[1;32m     39\u001b[0m     \u001b[0;32mif\u001b[0m \u001b[0mdo_negs\u001b[0m\u001b[0;34m:\u001b[0m\u001b[0;34m\u001b[0m\u001b[0;34m\u001b[0m\u001b[0m\n\u001b[0;32m---> 40\u001b[0;31m         \u001b[0mall_negs\u001b[0m \u001b[0;34m=\u001b[0m \u001b[0mlist\u001b[0m\u001b[0;34m(\u001b[0m\u001b[0mnp\u001b[0m\u001b[0;34m.\u001b[0m\u001b[0mrandom\u001b[0m\u001b[0;34m.\u001b[0m\u001b[0mchoice\u001b[0m\u001b[0;34m(\u001b[0m\u001b[0mtoken_ints\u001b[0m\u001b[0;34m,\u001b[0m\u001b[0msize\u001b[0m\u001b[0;34m=\u001b[0m\u001b[0mn_negs\u001b[0m\u001b[0;34m*\u001b[0m\u001b[0mlen\u001b[0m\u001b[0;34m(\u001b[0m\u001b[0mwindows\u001b[0m\u001b[0;34m)\u001b[0m\u001b[0;34m,\u001b[0m\u001b[0mp\u001b[0m\u001b[0;34m=\u001b[0m\u001b[0mneg_distr\u001b[0m\u001b[0;34m)\u001b[0m\u001b[0;34m)\u001b[0m\u001b[0;34m\u001b[0m\u001b[0;34m\u001b[0m\u001b[0m\n\u001b[0m\u001b[1;32m     41\u001b[0m         \u001b[0mto_return\u001b[0m \u001b[0;34m=\u001b[0m \u001b[0mwindows\u001b[0m\u001b[0;34m,\u001b[0m\u001b[0mall_negs\u001b[0m\u001b[0;34m\u001b[0m\u001b[0;34m\u001b[0m\u001b[0m\n\u001b[1;32m     42\u001b[0m     \u001b[0;32melse\u001b[0m\u001b[0;34m:\u001b[0m\u001b[0;34m\u001b[0m\u001b[0;34m\u001b[0m\u001b[0m\n",
      "\u001b[0;31mNameError\u001b[0m: name 'token_ints' is not defined"
     ]
    }
   ],
   "source": [
    "docs = [['a','b','c','d','e','f', \"GGDG\"],['A','B','C','D']]\n",
    "get_windows(docs[0],5)\n",
    "sample_examples(docs,2,2,True)"
   ]
  }
 ],
 "metadata": {
  "kernelspec": {
   "display_name": "Python 3 (ipykernel)",
   "language": "python",
   "name": "python3"
  },
  "language_info": {
   "codemirror_mode": {
    "name": "ipython",
    "version": 3
   },
   "file_extension": ".py",
   "mimetype": "text/x-python",
   "name": "python",
   "nbconvert_exporter": "python",
   "pygments_lexer": "ipython3",
   "version": "3.9.6"
  }
 },
 "nbformat": 4,
 "nbformat_minor": 5
}
