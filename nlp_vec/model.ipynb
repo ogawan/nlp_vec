{
 "cells": [
  {
   "cell_type": "code",
   "execution_count": 1,
   "id": "acfd2927",
   "metadata": {},
   "outputs": [
    {
     "name": "stderr",
     "output_type": "stream",
     "text": [
      "[nltk_data] Downloading package wordnet to /home/jovyan/nltk_data...\n",
      "[nltk_data]   Package wordnet is already up-to-date!\n"
     ]
    },
    {
     "data": {
      "text/plain": [
       "True"
      ]
     },
     "execution_count": 1,
     "metadata": {},
     "output_type": "execute_result"
    }
   ],
   "source": [
    "import re\n",
    "import json\n",
    "import operator\n",
    "import numpy as np\n",
    "from itertools import islice\n",
    "from bs4 import BeautifulSoup\n",
    "from collections import Counter\n",
    "from nltk.tokenize import TweetTokenizer\n",
    "#from nltk.stem.lancaster import LancasterStemmer\n",
    "from nltk.stem import WordNetLemmatizer\n",
    "import nltk\n",
    "nltk.download('wordnet')"
   ]
  },
  {
   "cell_type": "markdown",
   "id": "5c3513b2",
   "metadata": {},
   "source": [
    "### Notes\n",
    "\n",
    "Handling of stopwords when training word2vec. \n",
    "* [stackoverflow](https://stackoverflow.com/questions/34721984/stopword-removing-when-using-the-word2vec)\n",
    "\n",
    "* [Removing plural,ed, ing](https://www.geeksforgeeks.org/python-lemmatization-with-nltk/)\n",
    "\n",
    "* [Genism can rapidly build word2vec model](https://machinelearningmastery.com/develop-word-embeddings-python-gensim/)"
   ]
  },
  {
   "cell_type": "code",
   "execution_count": 25,
   "id": "f9f11bda",
   "metadata": {},
   "outputs": [],
   "source": [
    "doc = \"This guideline emphasizes considerations of both safety and quality risk management in establishing levels of mutagenic impurities that are expected to pose negligible carcinogenic risk. It outlines recommendations for assessment and control of mutagenic impurities that reside or are reasonably expected to reside in final drug substance or product, taking into consideration the intended conditions of human use.\"\n",
    "# Prepare paragraph\n",
    "\n",
    "sentences = doc.split(\".\")\n",
    "tokens =[]\n",
    "tokens_cleaned = []\n",
    "for sentence in sentences:\n",
    "    \n",
    "    split_sentence = sentence.split(\" \")\n",
    "\n",
    "    # Remove empty string\n",
    "    split_sentence  = list(filter(None, split_sentence ))\n",
    "    tokens = tokens + split_sentence\n",
    "\n",
    "wnl = WordNetLemmatizer()\n",
    "#ls = LancasterStemmer()\n",
    "for token in tokens:\n",
    "    token = wnl.lemmatize(token)\n",
    "    #token = ls.stem(token)\n",
    "    token = token.lower()\n",
    "    token = re.sub(' +',' ',token)\n",
    "    token = token.strip()\n",
    "    tokens_cleaned.append(token)"
   ]
  },
  {
   "cell_type": "code",
   "execution_count": 27,
   "id": "314952f9",
   "metadata": {},
   "outputs": [
    {
     "data": {
      "text/plain": [
       "[['This',\n",
       "  'guideline',\n",
       "  'emphasizes',\n",
       "  'considerations',\n",
       "  'of',\n",
       "  'both',\n",
       "  'safety',\n",
       "  'and',\n",
       "  'quality',\n",
       "  'risk',\n",
       "  'management',\n",
       "  'in',\n",
       "  'establishing',\n",
       "  'levels',\n",
       "  'of',\n",
       "  'mutagenic',\n",
       "  'impurities',\n",
       "  'that',\n",
       "  'are',\n",
       "  'expected',\n",
       "  'to',\n",
       "  'pose',\n",
       "  'negligible',\n",
       "  'carcinogenic',\n",
       "  'risk'],\n",
       " ['',\n",
       "  'It',\n",
       "  'outlines',\n",
       "  'recommendations',\n",
       "  'for',\n",
       "  'assessment',\n",
       "  'and',\n",
       "  'control',\n",
       "  'of',\n",
       "  'mutagenic',\n",
       "  'impurities',\n",
       "  'that',\n",
       "  'reside',\n",
       "  'or',\n",
       "  'are',\n",
       "  'reasonably',\n",
       "  'expected',\n",
       "  'to',\n",
       "  'reside',\n",
       "  'in',\n",
       "  'final',\n",
       "  'drug',\n",
       "  'substance',\n",
       "  'or',\n",
       "  'product,',\n",
       "  'taking',\n",
       "  'into',\n",
       "  'consideration',\n",
       "  'the',\n",
       "  'intended',\n",
       "  'conditions',\n",
       "  'of',\n",
       "  'human',\n",
       "  'use'],\n",
       " ['']]"
      ]
     },
     "execution_count": 27,
     "metadata": {},
     "output_type": "execute_result"
    }
   ],
   "source": [
    "sentences_for_genism = [i.split(\" \") for i in sentences]\n",
    "sentences_for_genism"
   ]
  },
  {
   "cell_type": "code",
   "execution_count": 3,
   "id": "2195365e",
   "metadata": {},
   "outputs": [],
   "source": [
    "# Count of words\n",
    "counts = dict(Counter(tokens_cleaned))\n",
    "sorted_counts = sorted(counts.items(), key=operator.itemgetter(1), reverse=True)\n",
    "word2index = dict([(my_tuple[0],idx) for idx,my_tuple in enumerate(sorted_counts,1)])\n",
    "inverted_word2index = {v:k for k,v in word2index.items()}"
   ]
  },
  {
   "cell_type": "code",
   "execution_count": 4,
   "id": "4155b8d7-0ef1-42ac-bdb6-18bf629cdfa7",
   "metadata": {},
   "outputs": [],
   "source": [
    "def get_windows(seq, n=5):\n",
    "    \"\"\"\n",
    "    Parameters:\n",
    "    ------------\n",
    "        seq: list\n",
    "            Sentence as lit of words\n",
    "        n:integer\n",
    "            the window size\n",
    "    yield:\n",
    "    -----------\n",
    "        result: generator object\n",
    "            Sliding windows\n",
    "        \n",
    "    \"\"\"\n",
    "    it = iter(seq)\n",
    "    result = tuple(islice(it, n))\n",
    "    if len(result) == n:\n",
    "        yield result\n",
    "    for elem in it:\n",
    "        result = result[1:] + (elem,)\n",
    "        yield result\n",
    "\n",
    "def sample_examples(docs,max_window_size,n_windows,do_negs):\n",
    "    '''generate target,context pairs and negative examples'''\n",
    "    windows = []\n",
    "    for i,doc in enumerate(docs):\n",
    "        window_size = int(np.random.choice(range(1,max_window_size+1),1)) # dynamic window\n",
    "        to_append = list(get_windows(doc,2*window_size+1))\n",
    "        to_append = [list((i,) + elt) for elt in to_append] # convert to list to support del and pop\n",
    "        windows.append(to_append)\n",
    "\n",
    "    windows = [elt for sublist in windows for elt in sublist] # flatten\n",
    "    random_idxs = np.random.choice(range(len(windows)),size=n_windows,replace=False)\n",
    "    windows = [windows[idx] for idx in random_idxs]\n",
    "    \n",
    "    if do_negs:\n",
    "        all_negs = list(np.random.choice(token_ints,size=n_negs*len(windows),p=neg_distr))\n",
    "        to_return = windows,all_negs\n",
    "    else:\n",
    "        to_return = windows\n",
    "\n",
    "    return to_return"
   ]
  },
  {
   "cell_type": "code",
   "execution_count": 29,
   "id": "a5ca17b9",
   "metadata": {
    "scrolled": true
   },
   "outputs": [
    {
     "name": "stdout",
     "output_type": "stream",
     "text": [
      "Word2Vec(vocab=45, vector_size=100, alpha=0.025)\n",
      "['of', 'in', 'or', 'expected', '', 'are', 'that', 'impurities', 'mutagenic', 'reside', 'to', 'risk', 'and', 'management', 'pose', 'quality', 'establishing', 'levels', 'safety', 'both', 'considerations', 'emphasizes', 'guideline', 'use', 'carcinogenic', 'negligible', 'human', 'conditions', 'intended', 'the', 'consideration', 'into', 'taking', 'product,', 'substance', 'drug', 'final', 'reasonably', 'control', 'assessment', 'for', 'recommendations', 'outlines', 'It', 'This']\n",
      "[-1.5137838e-03 -4.0351679e-03 -4.3876749e-03 -4.6231006e-03\n",
      " -5.5938833e-03 -5.3086961e-03 -8.0218911e-03  9.5268693e-03\n",
      "  6.3952962e-03 -3.6234658e-03  2.4789372e-03 -7.6554990e-03\n",
      "  7.5364923e-03  8.3134081e-03  7.9721858e-04 -6.8381261e-03\n",
      " -2.9402738e-03  4.7376757e-03 -2.9422196e-03  3.1599402e-03\n",
      "  9.4145061e-03  4.3545435e-03 -5.1368116e-03  5.4527549e-03\n",
      " -2.8703287e-03 -6.3819331e-03  6.9985930e-03 -9.2326459e-03\n",
      " -1.1393481e-03 -1.3735906e-03 -8.4067304e-03 -1.1001831e-03\n",
      "  5.5931224e-03 -5.2842172e-03 -7.0314845e-03  6.2075024e-03\n",
      " -3.4225411e-03 -7.8182118e-03  2.8392460e-04 -4.3037624e-05\n",
      "  7.5455238e-03  5.7058420e-04  7.8788605e-03 -9.8192804e-03\n",
      "  4.0336256e-03  6.2059402e-03  1.0223858e-03 -2.8449136e-03\n",
      "  1.0315606e-03 -8.3406310e-04 -8.0968542e-03 -6.7889621e-03\n",
      "  1.1878699e-03 -2.0270082e-03  9.5440457e-03 -9.4597210e-04\n",
      "  6.1175940e-03  2.0534087e-03  8.1005944e-03 -9.2864502e-03\n",
      "  2.3811879e-03 -1.4557558e-03  2.1664521e-03 -2.1368935e-04\n",
      " -6.6489330e-03  9.0636201e-03 -2.8496720e-03  1.9169254e-03\n",
      " -6.4498126e-03  3.7177934e-03  1.0005845e-02 -1.1861053e-03\n",
      "  6.5891678e-03 -1.1531105e-04  7.9316925e-03  9.6463133e-03\n",
      " -3.8128337e-04 -1.7021265e-03 -9.5238099e-03  9.8810587e-03\n",
      " -2.5566861e-03  2.1925610e-03 -1.7062869e-03  8.3418656e-03\n",
      "  8.3376300e-03  1.5269937e-03  2.8950667e-03  6.4381836e-03\n",
      "  2.2599117e-03  6.4505227e-03  1.5238930e-04 -2.2810423e-03\n",
      "  5.3148228e-03 -3.4215986e-03 -2.6058494e-03  8.7987222e-03\n",
      " -9.1433600e-03 -3.4188512e-03 -2.9239950e-03  5.6657852e-03]\n",
      "Word2Vec(vocab=45, vector_size=100, alpha=0.025)\n"
     ]
    }
   ],
   "source": [
    "from gensim.models import Word2Vec\n",
    "# define training data\n",
    "\n",
    "# train model\n",
    "model = Word2Vec(sentences_for_genism, min_count=1)\n",
    "\n",
    "# summarize the loaded model\n",
    "print(model)\n",
    "\n",
    "# summarize vocabulary\n",
    "words = list(model.wv.index_to_key )\n",
    "print(words)\n",
    "\n",
    "# access vector for one word\n",
    "print(model.wv.get_vector(\"substance\"))\n",
    "\n",
    "# save model\n",
    "model.save('model.bin')\n",
    "\n",
    "# load model\n",
    "new_model = Word2Vec.load('model.bin')\n",
    "print(new_model)"
   ]
  }
 ],
 "metadata": {
  "kernelspec": {
   "display_name": "Python 3 (ipykernel)",
   "language": "python",
   "name": "python3"
  },
  "language_info": {
   "codemirror_mode": {
    "name": "ipython",
    "version": 3
   },
   "file_extension": ".py",
   "mimetype": "text/x-python",
   "name": "python",
   "nbconvert_exporter": "python",
   "pygments_lexer": "ipython3",
   "version": "3.9.6"
  }
 },
 "nbformat": 4,
 "nbformat_minor": 5
}
