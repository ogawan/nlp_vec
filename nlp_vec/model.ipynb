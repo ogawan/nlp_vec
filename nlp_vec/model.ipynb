{
 "cells": [
  {
   "cell_type": "code",
   "execution_count": 10,
   "id": "4155b8d7-0ef1-42ac-bdb6-18bf629cdfa7",
   "metadata": {},
   "outputs": [
    {
     "data": {
      "text/plain": [
       "<generator object get_windows at 0x7fe41c971950>"
      ]
     },
     "execution_count": 10,
     "metadata": {},
     "output_type": "execute_result"
    }
   ],
   "source": [
    "import numpy as np\n",
    "from itertools import islice\n",
    "\n",
    "def get_windows(seq, n=5):\n",
    "    \"\"\"\n",
    "    Parameters:\n",
    "    ------------\n",
    "        seq: list\n",
    "            Sentence as lit of words\n",
    "        n:integer\n",
    "            the window size\n",
    "    yield:\n",
    "    -----------\n",
    "        result: generator object\n",
    "            Sliding windows\n",
    "        \n",
    "    \"\"\"\n",
    "    it = iter(seq)\n",
    "    result = tuple(islice(it, n))\n",
    "    if len(result) == n:\n",
    "        yield result\n",
    "    for elem in it:\n",
    "        result = result[1:] + (elem,)\n",
    "        yield result\n",
    "\n",
    "docs = [['a','b','c','d','e','f', \"GGDG\"],['A','B','C','D']]\n",
    "get_windows(docs[0],5)"
   ]
  },
  {
   "cell_type": "code",
   "execution_count": 11,
   "id": "0c62b6d5-ef2f-4671-bb5f-bc9a2cd338df",
   "metadata": {},
   "outputs": [
    {
     "name": "stdout",
     "output_type": "stream",
     "text": [
      "('a', 'b', 'c', 'd', 'e')\n",
      "('b', 'c', 'd', 'e', 'f')\n",
      "('c', 'd', 'e', 'f', 'GGDG')\n"
     ]
    }
   ],
   "source": [
    "for i in _:\n",
    "    print(i)"
   ]
  }
 ],
 "metadata": {
  "kernelspec": {
   "display_name": "Python 3 (ipykernel)",
   "language": "python",
   "name": "python3"
  },
  "language_info": {
   "codemirror_mode": {
    "name": "ipython",
    "version": 3
   },
   "file_extension": ".py",
   "mimetype": "text/x-python",
   "name": "python",
   "nbconvert_exporter": "python",
   "pygments_lexer": "ipython3",
   "version": "3.7.9"
  }
 },
 "nbformat": 4,
 "nbformat_minor": 5
}
