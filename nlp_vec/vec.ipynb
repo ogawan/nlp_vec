{
 "cells": [
  {
   "cell_type": "markdown",
   "id": "39e5119d-025d-49af-984c-f31f200badbc",
   "metadata": {},
   "source": [
    "#### 1) Vectorize sentences using standard word embedding such as GloVe and word2vec. "
   ]
  },
  {
   "cell_type": "code",
   "execution_count": 1,
   "id": "4f232f6c-5c4b-42c3-9a63-d0c92ea4ed80",
   "metadata": {
    "tags": []
   },
   "outputs": [],
   "source": [
    "from nlp_vec import vec\n",
    "\n",
    "%load_ext autoreload\n",
    "%autoreload 2\n",
    "\n",
    "text = [\"This is an apple\", \"I am orange boy with a pineapple\", \"Fat elephant\", \"organic chemistry\", \"Fuji mountain\", \"Megane TRPV1\", \"FGHSRHG$%&YEHDRT\"]\n",
    "\n",
    "#GloVe\n",
    "glove_vectorizer = vec.Vectorize_GloVe()\n",
    "glove_vectorizer.fit_transform(text)\n",
    "\n",
    "#Word2vec\n",
    "word2vec_vectorizer = vec.Vectorize_word2vec()\n",
    "vec = word2vec_vectorizer.fit_tansform(text)"
   ]
  },
  {
   "cell_type": "code",
   "execution_count": 3,
   "id": "4a6c1e5c-ad37-4bbe-9d72-90461ac78c57",
   "metadata": {},
   "outputs": [
    {
     "data": {
      "text/plain": [
       "['a', 'FGHSRHG$%&YEHDRT']"
      ]
     },
     "execution_count": 3,
     "metadata": {},
     "output_type": "execute_result"
    }
   ],
   "source": [
    "#list of words not found\n",
    "word2vec_vectorizer.word_not_found"
   ]
  }
 ],
 "metadata": {
  "kernelspec": {
   "display_name": "Python 3 (ipykernel)",
   "language": "python",
   "name": "python3"
  },
  "language_info": {
   "codemirror_mode": {
    "name": "ipython",
    "version": 3
   },
   "file_extension": ".py",
   "mimetype": "text/x-python",
   "name": "python",
   "nbconvert_exporter": "python",
   "pygments_lexer": "ipython3",
   "version": "3.7.9"
  }
 },
 "nbformat": 4,
 "nbformat_minor": 5
}
