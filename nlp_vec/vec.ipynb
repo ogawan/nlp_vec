{
 "cells": [
  {
   "cell_type": "code",
   "execution_count": 1,
   "id": "4f232f6c-5c4b-42c3-9a63-d0c92ea4ed80",
   "metadata": {
    "tags": []
   },
   "outputs": [
    {
     "data": {
      "text/plain": [
       "array([[-0.05512238,  0.0390625 ,  0.09744263, ...,  0.08428955,\n",
       "         0.10931396,  0.03564453],\n",
       "       [-0.02652995, -0.01939392,  0.05227661, ..., -0.05473836,\n",
       "         0.05078125,  0.07804362],\n",
       "       [-0.04125977,  0.06054688, -0.21582031, ...,  0.0625    ,\n",
       "        -0.28857422,  0.10498047],\n",
       "       ...,\n",
       "       [ 0.01416016,  0.15893555, -0.08325195, ...,  0.13525391,\n",
       "         0.09619141, -0.03662109],\n",
       "       [ 0.20898438, -0.11303711,  0.1315918 , ...,  0.14208984,\n",
       "         0.14440918,  0.01318359],\n",
       "       [ 0.        ,  0.        ,  0.        , ...,  0.        ,\n",
       "         0.        ,  0.        ]])"
      ]
     },
     "execution_count": 1,
     "metadata": {},
     "output_type": "execute_result"
    }
   ],
   "source": [
    "from nlp_vec import vec\n",
    "\n",
    "%load_ext autoreload\n",
    "%autoreload 2\n",
    "\n",
    "text = [\"This is an apple\", \"I am orange boy with a pineapple\", \"Fat elephant\", \"organic chemistry\", \"Fuji mountain\", \"Megane TRPV1\", \"FGHSRHG$%&YEHDRT\"]\n",
    "\n",
    "#GloVe\n",
    "#glove_vectorizer = vec.Vectorize_GloVe()\n",
    "#glove_vectorizer.fit_transform(text)\n",
    "\n",
    "#Word2vec\n",
    "word2vec_vectorizer = vec.Vectorize_word2vec()\n",
    "word2vec_vectorizer.fit_tansform(text)"
   ]
  },
  {
   "cell_type": "code",
   "execution_count": 2,
   "id": "4a6c1e5c-ad37-4bbe-9d72-90461ac78c57",
   "metadata": {},
   "outputs": [
    {
     "data": {
      "text/plain": [
       "['a', 'FGHSRHG$%&YEHDRT']"
      ]
     },
     "execution_count": 2,
     "metadata": {},
     "output_type": "execute_result"
    }
   ],
   "source": [
    "#list of words not found\n",
    "word2vec_vectorizer.word_not_found"
   ]
  }
 ],
 "metadata": {
  "kernelspec": {
   "display_name": "Python 3 (ipykernel)",
   "language": "python",
   "name": "python3"
  },
  "language_info": {
   "codemirror_mode": {
    "name": "ipython",
    "version": 3
   },
   "file_extension": ".py",
   "mimetype": "text/x-python",
   "name": "python",
   "nbconvert_exporter": "python",
   "pygments_lexer": "ipython3",
   "version": "3.7.9"
  }
 },
 "nbformat": 4,
 "nbformat_minor": 5
}
