{
 "cells": [
  {
   "cell_type": "code",
   "execution_count": 1,
   "id": "4f232f6c-5c4b-42c3-9a63-d0c92ea4ed80",
   "metadata": {
    "tags": []
   },
   "outputs": [
    {
     "ename": "SyntaxError",
     "evalue": "EOL while scanning string literal (2826821073.py, line 6)",
     "output_type": "error",
     "traceback": [
      "\u001b[0;36m  File \u001b[0;32m\"/tmp/ipykernel_216/2826821073.py\"\u001b[0;36m, line \u001b[0;32m6\u001b[0m\n\u001b[0;31m    text = [\"This is an apple\", \"I am orange boy with a pineapple\", \"Fat elephant\", \"organic chemistry\", \"Fuji mountain]\u001b[0m\n\u001b[0m                                                                                                                        ^\u001b[0m\n\u001b[0;31mSyntaxError\u001b[0m\u001b[0;31m:\u001b[0m EOL while scanning string literal\n"
     ]
    }
   ],
   "source": [
    "from nlp_vec import vec\n",
    "\n",
    "%load_ext autoreload\n",
    "%autoreload 2\n",
    "\n",
    "text = [\"This is an apple\", \"I am orange boy with a pineapple\", \"Fat elephant\", \"organic chemistry\", \"Fuji mountain\"]\n",
    "\n",
    "#GloVe\n",
    "#glove_vectorizer = vec.Vectorize_GloVe()\n",
    "#glove_vectorizer.fit_transform(text)\n",
    "\n",
    "#Word2vec\n",
    "word2vec_vectorizer = vec.Vectorize_word2vec()\n",
    "word2vec_vectorizer.fit_tansform(text)"
   ]
  },
  {
   "cell_type": "code",
   "execution_count": null,
   "id": "4a6c1e5c-ad37-4bbe-9d72-90461ac78c57",
   "metadata": {},
   "outputs": [],
   "source": [
    "#list of words not found\n",
    "word2vec_vectorizer.word_not_found"
   ]
  }
 ],
 "metadata": {
  "kernelspec": {
   "display_name": "Python 3 (ipykernel)",
   "language": "python",
   "name": "python3"
  },
  "language_info": {
   "codemirror_mode": {
    "name": "ipython",
    "version": 3
   },
   "file_extension": ".py",
   "mimetype": "text/x-python",
   "name": "python",
   "nbconvert_exporter": "python",
   "pygments_lexer": "ipython3",
   "version": "3.7.9"
  }
 },
 "nbformat": 4,
 "nbformat_minor": 5
}
