{
 "cells": [
  {
   "cell_type": "code",
   "execution_count": 1,
   "id": "4f232f6c-5c4b-42c3-9a63-d0c92ea4ed80",
   "metadata": {},
   "outputs": [
    {
     "name": "stdout",
     "output_type": "stream",
     "text": [
      "This pretrain word vectors include 400000 word embedding\n"
     ]
    }
   ],
   "source": [
    "from nlp_vec import vec\n",
    "\n",
    "glove_vectorizer = vec.Vectorize_GloVe()"
   ]
  },
  {
   "cell_type": "code",
   "execution_count": 7,
   "id": "626a2016-fbd4-4fea-8f6e-f2c9c0e06137",
   "metadata": {},
   "outputs": [
    {
     "ename": "SyntaxError",
     "evalue": "invalid syntax (2253340650.py, line 1)",
     "output_type": "error",
     "traceback": [
      "\u001b[0;36m  File \u001b[0;32m\"/tmp/ipykernel_100/2253340650.py\"\u001b[0;36m, line \u001b[0;32m1\u001b[0m\n\u001b[0;31m    glove_vectorizer.word2vec:\u001b[0m\n\u001b[0m                              ^\u001b[0m\n\u001b[0;31mSyntaxError\u001b[0m\u001b[0;31m:\u001b[0m invalid syntax\n"
     ]
    }
   ],
   "source": [
    "glove_vectorizer.word2vec"
   ]
  }
 ],
 "metadata": {
  "kernelspec": {
   "display_name": "Python 3 (ipykernel)",
   "language": "python",
   "name": "python3"
  },
  "language_info": {
   "codemirror_mode": {
    "name": "ipython",
    "version": 3
   },
   "file_extension": ".py",
   "mimetype": "text/x-python",
   "name": "python",
   "nbconvert_exporter": "python",
   "pygments_lexer": "ipython3",
   "version": "3.7.9"
  }
 },
 "nbformat": 4,
 "nbformat_minor": 5
}
